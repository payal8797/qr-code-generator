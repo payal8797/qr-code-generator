{
 "cells": [
  {
   "cell_type": "code",
   "execution_count": 1,
   "id": "1cceb804",
   "metadata": {},
   "outputs": [
    {
     "name": "stdout",
     "output_type": "stream",
     "text": [
      "Requirement already satisfied: qrcode[pil] in c:\\users\\payal\\appdata\\local\\programs\\python\\python311\\lib\\site-packages (7.4.2)\n",
      "Requirement already satisfied: typing-extensions in c:\\users\\payal\\appdata\\local\\programs\\python\\python311\\lib\\site-packages (from qrcode[pil]) (4.5.0)\n",
      "Requirement already satisfied: pypng in c:\\users\\payal\\appdata\\local\\programs\\python\\python311\\lib\\site-packages (from qrcode[pil]) (0.20220715.0)\n",
      "Requirement already satisfied: colorama in c:\\users\\payal\\appdata\\local\\programs\\python\\python311\\lib\\site-packages (from qrcode[pil]) (0.4.6)\n",
      "Requirement already satisfied: pillow>=9.1.0 in c:\\users\\payal\\appdata\\local\\programs\\python\\python311\\lib\\site-packages (from qrcode[pil]) (9.4.0)\n",
      "Requirement already satisfied: validators in c:\\users\\payal\\appdata\\local\\programs\\python\\python311\\lib\\site-packages (0.22.0)\n"
     ]
    }
   ],
   "source": [
    "!pip install qrcode[pil]\n",
    "!pip install validators\n"
   ]
  },
  {
   "cell_type": "code",
   "execution_count": 2,
   "id": "46e1f4c2",
   "metadata": {},
   "outputs": [],
   "source": [
    "import qrcode\n",
    "import validators\n",
    "import re\n"
   ]
  },
  {
   "cell_type": "code",
   "execution_count": 3,
   "id": "59c927e0",
   "metadata": {},
   "outputs": [],
   "source": [
    "def generate_qr_code(url, filename):\n",
    "    # Initialize a QRCode object with desired parameters\n",
    "    qr = qrcode.QRCode(\n",
    "        version=1,  # QR code version (1 to 40)\n",
    "        error_correction=qrcode.constants.ERROR_CORRECT_H,  # Error correction level\n",
    "        box_size=10,  # Size of each box (pixel) in the QR code\n",
    "        border=4,  # Width of the border around the QR code\n",
    "    )\n",
    "    \n",
    "    # Add the URL data to the QR code\n",
    "    qr.add_data(url)\n",
    "    qr.make(fit=True)  # Generate the QR code\n",
    "    \n",
    "    # Make the image of the QR code with specified colors\n",
    "    img = qr.make_image(fill_color=\"black\", back_color=\"white\")\n",
    "    img.save(filename)  # Save the image to a file with the provided filename\n"
   ]
  },
  {
   "cell_type": "code",
   "execution_count": 4,
   "id": "4f120b7c",
   "metadata": {},
   "outputs": [],
   "source": [
    "def validate_url(url):\n",
    "    # Regular expression pattern to match URL format\n",
    "    url_pattern = re.compile(\n",
    "        r'^(?:http|ftp)s?://'  # http:// or https:// or ftp://\n",
    "        r'(?:(?:[A-Z0-9](?:[A-Z0-9-]{0,61}[A-Z0-9])?\\.)+(?:[A-Z]{2,6}\\.?|[A-Z0-9-]{2,}\\.?)|'  # domain...\n",
    "        r'localhost|'  # localhost...\n",
    "        r'\\d{1,3}\\.\\d{1,3}\\.\\d{1,3}\\.\\d{1,3})'  # ...or IP\n",
    "        r'(?::\\d+)?'  # optional port\n",
    "        r'(?:/?|[/?]\\S+)$', re.IGNORECASE)\n",
    "\n",
    "    return re.match(url_pattern, url) is not None\n",
    "\n"
   ]
  },
  {
   "cell_type": "code",
   "execution_count": 5,
   "id": "fbeadd2d",
   "metadata": {},
   "outputs": [
    {
     "name": "stdout",
     "output_type": "stream",
     "text": [
      "Enter the URL for QR code: https://github.com/payal8797/qr-code-generator\n",
      "Enter the filename for the QR code image (with extension, e.g., example.png): github.png\n"
     ]
    }
   ],
   "source": [
    "while True:\n",
    "    # Prompt the user to input the URL for the QR code\n",
    "    url = input(\"Enter the URL for QR code: \")\n",
    "\n",
    "    # Check if the entered URL is valid using validators.url()\n",
    "    if validate_url(url):\n",
    "        break  # If valid, exit the loop\n",
    "    else:\n",
    "        # If the URL is invalid, prompt the user to enter a valid URL\n",
    "        print(\"Invalid URL. Please enter a valid URL.\")\n",
    "\n",
    "# Define a list of valid file extensions\n",
    "valid_extensions = ['.png', '.jpg', '.jpeg', '.gif']   \n",
    "\n",
    "while True:\n",
    "    # Prompt the user to input the filename for the QR code image\n",
    "    filename = input(\"Enter the filename for the QR code image (with extension, e.g., example.png): \")\n",
    "\n",
    "    # Check if the entered filename has a valid extension\n",
    "    if any(filename.endswith(ext) for ext in valid_extensions):\n",
    "        break  # If valid, exit the loop\n",
    "    else:\n",
    "        # If the filename has an invalid extension, prompt the user to enter a valid filename\n",
    "        print(\"Invalid filename. Please enter a filename with a supported extension.\")\n",
    "\n"
   ]
  },
  {
   "cell_type": "code",
   "execution_count": 6,
   "id": "69b913a3",
   "metadata": {},
   "outputs": [
    {
     "name": "stdout",
     "output_type": "stream",
     "text": [
      "QR code with URL 'https://github.com/payal8797/qr-code-generator' saved as github.png\n"
     ]
    }
   ],
   "source": [
    "# Generate the QR code using the provided URL and filename\n",
    "generate_qr_code(url, filename)\n",
    "\n",
    "# Print a message indicating that the QR code has been saved\n",
    "print(f\"QR code with URL '{url}' saved as {filename}\")\n"
   ]
  },
  {
   "cell_type": "code",
   "execution_count": null,
   "id": "bdfdc938",
   "metadata": {},
   "outputs": [],
   "source": []
  },
  {
   "cell_type": "code",
   "execution_count": null,
   "id": "deeda857",
   "metadata": {},
   "outputs": [],
   "source": []
  },
  {
   "cell_type": "code",
   "execution_count": null,
   "id": "1db1f6f4",
   "metadata": {},
   "outputs": [],
   "source": []
  },
  {
   "cell_type": "code",
   "execution_count": null,
   "id": "ae39369f",
   "metadata": {},
   "outputs": [],
   "source": []
  },
  {
   "cell_type": "code",
   "execution_count": null,
   "id": "83e2a88e",
   "metadata": {},
   "outputs": [],
   "source": []
  },
  {
   "cell_type": "code",
   "execution_count": null,
   "id": "2123d05f",
   "metadata": {},
   "outputs": [],
   "source": []
  },
  {
   "cell_type": "code",
   "execution_count": null,
   "id": "f2f0aee1",
   "metadata": {},
   "outputs": [],
   "source": []
  }
 ],
 "metadata": {
  "kernelspec": {
   "display_name": "Python 3 (ipykernel)",
   "language": "python",
   "name": "python3"
  },
  "language_info": {
   "codemirror_mode": {
    "name": "ipython",
    "version": 3
   },
   "file_extension": ".py",
   "mimetype": "text/x-python",
   "name": "python",
   "nbconvert_exporter": "python",
   "pygments_lexer": "ipython3",
   "version": "3.11.2"
  }
 },
 "nbformat": 4,
 "nbformat_minor": 5
}
